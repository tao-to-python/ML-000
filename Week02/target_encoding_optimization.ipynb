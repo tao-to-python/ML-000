{
 "cells": [
  {
   "cell_type": "code",
   "execution_count": 1,
   "metadata": {
    "ExecuteTime": {
     "end_time": "2021-01-12T14:21:53.116209Z",
     "start_time": "2021-01-12T14:21:52.280866Z"
    }
   },
   "outputs": [],
   "source": [
    "import pandas as pd\n",
    "import numpy as np\n"
   ]
  },
  {
   "cell_type": "code",
   "execution_count": 2,
   "metadata": {
    "ExecuteTime": {
     "end_time": "2021-01-12T14:21:53.125997Z",
     "start_time": "2021-01-12T14:21:53.121061Z"
    }
   },
   "outputs": [],
   "source": [
    "y = np.random.randint(2, size=(5000, 1))\n",
    "x = np.random.randint(10, size=(5000, 1))\n",
    "data = pd.DataFrame(np.concatenate([y, x], axis=1), columns=['y', 'x'])"
   ]
  },
  {
   "cell_type": "code",
   "execution_count": 7,
   "metadata": {
    "ExecuteTime": {
     "end_time": "2021-01-12T14:42:56.540630Z",
     "start_time": "2021-01-12T14:42:56.536325Z"
    }
   },
   "outputs": [],
   "source": [
    "from line_profiler import LineProfiler\n",
    "def LineProfilerAnalysis(func):\n",
    "    profile = LineProfiler(func) \n",
    "    profile.enable() \n",
    "    func(data, 'y', 'x')\n",
    "    profile.disable() \n",
    "    profile.print_stats() "
   ]
  },
  {
   "cell_type": "markdown",
   "metadata": {},
   "source": [
    "## base_version\n",
    "   * base version"
   ]
  },
  {
   "cell_type": "code",
   "execution_count": 3,
   "metadata": {
    "ExecuteTime": {
     "end_time": "2021-01-12T14:21:55.336311Z",
     "start_time": "2021-01-12T14:21:55.328600Z"
    }
   },
   "outputs": [],
   "source": [
    "def target_mean_v1(data, y_name, x_name):\n",
    "    result = np.zeros(data.shape[0])\n",
    "    for i in range(data.shape[0]):\n",
    "        groupby_result = data[data.index != i].groupby([x_name], as_index=False).agg(['mean', 'count'])\n",
    "        result[i] = groupby_result.loc[groupby_result.index == data.loc[i, x_name], (y_name, 'mean')]\n",
    "    return result"
   ]
  },
  {
   "cell_type": "code",
   "execution_count": 4,
   "metadata": {
    "ExecuteTime": {
     "end_time": "2021-01-12T14:24:22.424944Z",
     "start_time": "2021-01-12T14:21:56.821206Z"
    }
   },
   "outputs": [
    {
     "name": "stdout",
     "output_type": "stream",
     "text": [
      "18.3 s ± 807 ms per loop (mean ± std. dev. of 7 runs, 1 loop each)\n"
     ]
    }
   ],
   "source": [
    "%%timeit\n",
    "target_mean_v1(data,'y','x')"
   ]
  },
  {
   "cell_type": "markdown",
   "metadata": {},
   "source": [
    "## Python"
   ]
  },
  {
   "cell_type": "markdown",
   "metadata": {},
   "source": [
    "### Version_2\n",
    "   * using dict to store tmp_result\n",
    "   * using numpy to replace pandas"
   ]
  },
  {
   "cell_type": "code",
   "execution_count": 18,
   "metadata": {
    "ExecuteTime": {
     "end_time": "2021-01-12T14:54:36.778573Z",
     "start_time": "2021-01-12T14:54:36.774113Z"
    }
   },
   "outputs": [],
   "source": [
    "def target_mean_v2(data,y_name, x_name):\n",
    "    length = len(data)\n",
    "    sum_dict = dict()\n",
    "    count_dict = dict()\n",
    "    x_array = data[x_name].values\n",
    "    y_array = data[y_name].values\n",
    "    # calculate total sum(count) of y_label \n",
    "    for i,val in enumerate(x_array):\n",
    "        sum_dict[val] = sum_dict.get(val,0)+ y_array[i]\n",
    "        count_dict[val] = count_dict.get(val,0)+1\n",
    "    # calculate the final result\n",
    "    result = np.zeros(length)\n",
    "    for i in range(length):\n",
    "        result[i] = (sum_dict[x_array[i]]-y_array[i])/(count_dict[x_array[i]]-1)\n",
    "    return result"
   ]
  },
  {
   "cell_type": "code",
   "execution_count": 19,
   "metadata": {
    "ExecuteTime": {
     "end_time": "2021-01-12T14:55:22.257235Z",
     "start_time": "2021-01-12T14:54:36.781408Z"
    }
   },
   "outputs": [
    {
     "name": "stdout",
     "output_type": "stream",
     "text": [
      "6.5 ms ± 231 µs per loop (mean ± std. dev. of 7 runs, 1000 loops each)\n"
     ]
    }
   ],
   "source": [
    "%%timeit -n 1000\n",
    "target_mean_v2(data,'y','x')"
   ]
  },
  {
   "cell_type": "code",
   "execution_count": 11,
   "metadata": {
    "ExecuteTime": {
     "end_time": "2021-01-12T14:47:09.147570Z",
     "start_time": "2021-01-12T14:47:09.115922Z"
    }
   },
   "outputs": [
    {
     "name": "stdout",
     "output_type": "stream",
     "text": [
      "Timer unit: 1e-06 s\n",
      "\n",
      "Total time: 0.019898 s\n",
      "File: <ipython-input-9-4d4ff5652e5b>\n",
      "Function: target_mean_v2 at line 1\n",
      "\n",
      "Line #      Hits         Time  Per Hit   % Time  Line Contents\n",
      "==============================================================\n",
      "     1                                           def target_mean_v2(data,y_name, x_name):\n",
      "     2         1         18.0     18.0      0.1      length = len(data)\n",
      "     3         1          1.0      1.0      0.0      sum_dict = dict()\n",
      "     4         1          1.0      1.0      0.0      count_dict = dict()\n",
      "     5         1         73.0     73.0      0.4      x_array = data[x_name].values\n",
      "     6         1         11.0     11.0      0.1      y_array = data[y_name].values\n",
      "     7                                               # calculate total sum(count) of y_label \n",
      "     8      5001       2463.0      0.5     12.4      for i,val in enumerate(x_array):\n",
      "     9      5000       4299.0      0.9     21.6          sum_dict[val] = sum_dict.get(val,0)+ y_array[i]\n",
      "    10      5000       3176.0      0.6     16.0          count_dict[val] = count_dict.get(val,0)+1\n",
      "    11                                               # calculate the final result\n",
      "    12         1         21.0     21.0      0.1      result = np.zeros(length)\n",
      "    13      5001       2017.0      0.4     10.1      for i in range(length):\n",
      "    14      5000       7818.0      1.6     39.3          result[i] = (sum_dict[x_array[i]]-y_array[i])/(count_dict[x_array[i]]-1)\n",
      "    15         1          0.0      0.0      0.0      return result\n",
      "\n"
     ]
    }
   ],
   "source": [
    "LineProfilerAnalysis(target_mean_v2)"
   ]
  },
  {
   "cell_type": "markdown",
   "metadata": {
    "ExecuteTime": {
     "end_time": "2021-01-12T14:48:21.315772Z",
     "start_time": "2021-01-12T14:48:21.312974Z"
    }
   },
   "source": [
    "### Version_3\n",
    "   * optimize the for loop"
   ]
  },
  {
   "cell_type": "code",
   "execution_count": 15,
   "metadata": {
    "ExecuteTime": {
     "end_time": "2021-01-12T14:53:32.585661Z",
     "start_time": "2021-01-12T14:53:32.580802Z"
    },
    "code_folding": [
     0
    ]
   },
   "outputs": [],
   "source": [
    "def target_mean_v3(data,y_name, x_name):\n",
    "    length = len(data)\n",
    "    sum_dict = dict()\n",
    "    count_dict = dict()\n",
    "    x_array = data[x_name].values\n",
    "    y_array = data[y_name].values\n",
    "    # calculate total sum(count) of y_label \n",
    "    for i,val in enumerate(x_array):\n",
    "        sum_dict[val] = sum_dict.get(val,0)+ y_array[i]\n",
    "        count_dict[val] = count_dict.get(val,0)+1\n",
    "    # calculate the final result\n",
    "    numerator_array = np.array([sum_dict[x_array[i]]-y_array[i] for i in range(length)])\n",
    "    denominator_array = np.array([count_dict[x_array[i]]-1 for i in range(length)])\n",
    "    result = numerator_array / denominator_array\n",
    "    return result"
   ]
  },
  {
   "cell_type": "code",
   "execution_count": 17,
   "metadata": {
    "ExecuteTime": {
     "end_time": "2021-01-12T14:54:36.772122Z",
     "start_time": "2021-01-12T14:53:52.270891Z"
    }
   },
   "outputs": [
    {
     "name": "stdout",
     "output_type": "stream",
     "text": [
      "6.36 ms ± 143 µs per loop (mean ± std. dev. of 7 runs, 1000 loops each)\n"
     ]
    }
   ],
   "source": [
    "%%timeit -n 1000\n",
    "target_mean_v3(data,'y','x')"
   ]
  },
  {
   "cell_type": "code",
   "execution_count": 20,
   "metadata": {
    "ExecuteTime": {
     "end_time": "2021-01-12T14:55:22.294761Z",
     "start_time": "2021-01-12T14:55:22.259259Z"
    }
   },
   "outputs": [
    {
     "name": "stdout",
     "output_type": "stream",
     "text": [
      "Timer unit: 1e-06 s\n",
      "\n",
      "Total time: 0.020804 s\n",
      "File: <ipython-input-15-aa01368c91ec>\n",
      "Function: target_mean_v3 at line 1\n",
      "\n",
      "Line #      Hits         Time  Per Hit   % Time  Line Contents\n",
      "==============================================================\n",
      "     1                                           def target_mean_v3(data,y_name, x_name):\n",
      "     2         1         13.0     13.0      0.1      length = len(data)\n",
      "     3         1          1.0      1.0      0.0      sum_dict = dict()\n",
      "     4         1          1.0      1.0      0.0      count_dict = dict()\n",
      "     5         1         38.0     38.0      0.2      x_array = data[x_name].values\n",
      "     6         1         14.0     14.0      0.1      y_array = data[y_name].values\n",
      "     7                                               # calculate total sum(count) of y_label \n",
      "     8      5001       4220.0      0.8     20.3      for i,val in enumerate(x_array):\n",
      "     9      5000       6232.0      1.2     30.0          sum_dict[val] = sum_dict.get(val,0)+ y_array[i]\n",
      "    10      5000       4521.0      0.9     21.7          count_dict[val] = count_dict.get(val,0)+1\n",
      "    11                                               # calculate the final result\n",
      "    12         1       3571.0   3571.0     17.2      numerator_array = np.array([sum_dict[x_array[i]]-y_array[i] for i in range(length)])\n",
      "    13         1       2108.0   2108.0     10.1      denominator_array = np.array([count_dict[x_array[i]]-1 for i in range(length)])\n",
      "    14         1         84.0     84.0      0.4      result = numerator_array / denominator_array\n",
      "    15         1          1.0      1.0      0.0      return result\n",
      "\n"
     ]
    }
   ],
   "source": [
    "LineProfilerAnalysis(target_mean_v3)"
   ]
  },
  {
   "cell_type": "markdown",
   "metadata": {},
   "source": [
    "## Cython"
   ]
  },
  {
   "cell_type": "code",
   "execution_count": null,
   "metadata": {},
   "outputs": [],
   "source": []
  },
  {
   "cell_type": "code",
   "execution_count": null,
   "metadata": {},
   "outputs": [],
   "source": []
  },
  {
   "cell_type": "markdown",
   "metadata": {},
   "source": [
    "*异常值处理*：分子为0时"
   ]
  },
  {
   "cell_type": "code",
   "execution_count": null,
   "metadata": {},
   "outputs": [],
   "source": []
  }
 ],
 "metadata": {
  "kernelspec": {
   "display_name": "Python 3",
   "language": "python",
   "name": "python3"
  },
  "language_info": {
   "codemirror_mode": {
    "name": "ipython",
    "version": 3
   },
   "file_extension": ".py",
   "mimetype": "text/x-python",
   "name": "python",
   "nbconvert_exporter": "python",
   "pygments_lexer": "ipython3",
   "version": "3.8.3"
  },
  "latex_envs": {
   "LaTeX_envs_menu_present": true,
   "autoclose": false,
   "autocomplete": true,
   "bibliofile": "biblio.bib",
   "cite_by": "apalike",
   "current_citInitial": 1,
   "eqLabelWithNumbers": true,
   "eqNumInitial": 1,
   "hotkeys": {
    "equation": "Ctrl-E",
    "itemize": "Ctrl-I"
   },
   "labels_anchors": false,
   "latex_user_defs": false,
   "report_style_numbering": false,
   "user_envs_cfg": false
  },
  "toc": {
   "base_numbering": 1,
   "nav_menu": {},
   "number_sections": true,
   "sideBar": true,
   "skip_h1_title": false,
   "title_cell": "Table of Contents",
   "title_sidebar": "Contents",
   "toc_cell": false,
   "toc_position": {},
   "toc_section_display": true,
   "toc_window_display": true
  }
 },
 "nbformat": 4,
 "nbformat_minor": 4
}
